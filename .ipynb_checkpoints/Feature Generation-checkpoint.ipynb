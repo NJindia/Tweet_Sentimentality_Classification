{
 "cells": [
  {
   "cell_type": "code",
   "execution_count": 1,
   "id": "5e25f7b5",
   "metadata": {},
   "outputs": [
    {
     "name": "stderr",
     "output_type": "stream",
     "text": [
      "[nltk_data] Downloading package stopwords to\n",
      "[nltk_data]     C:\\Users\\techn\\AppData\\Roaming\\nltk_data...\n",
      "[nltk_data]   Package stopwords is already up-to-date!\n",
      "[nltk_data] Downloading package punkt to\n",
      "[nltk_data]     C:\\Users\\techn\\AppData\\Roaming\\nltk_data...\n",
      "[nltk_data]   Package punkt is already up-to-date!\n",
      "[nltk_data] Downloading package averaged_perceptron_tagger to\n",
      "[nltk_data]     C:\\Users\\techn\\AppData\\Roaming\\nltk_data...\n",
      "[nltk_data]   Package averaged_perceptron_tagger is already up-to-\n",
      "[nltk_data]       date!\n",
      "[nltk_data] Downloading package wordnet to\n",
      "[nltk_data]     C:\\Users\\techn\\AppData\\Roaming\\nltk_data...\n",
      "[nltk_data]   Package wordnet is already up-to-date!\n",
      "[nltk_data] Downloading package omw-1.4 to\n",
      "[nltk_data]     C:\\Users\\techn\\AppData\\Roaming\\nltk_data...\n",
      "[nltk_data]   Package omw-1.4 is already up-to-date!\n"
     ]
    },
    {
     "data": {
      "text/plain": [
       "True"
      ]
     },
     "execution_count": 1,
     "metadata": {},
     "output_type": "execute_result"
    }
   ],
   "source": [
    "import pandas as pd\n",
    "import requests, zipfile, io, re, nltk\n",
    "from datetime import datetime, timedelta\n",
    "import tensorflow as tf\n",
    "from keras import models, layers\n",
    "from keras.preprocessing.text import Tokenizer \n",
    "from nltk.tokenize import word_tokenize, sent_tokenize, TweetTokenizer, wordpunct_tokenize, RegexpTokenizer\n",
    "from nltk.corpus import stopwords\n",
    "from nltk.corpus import wordnet as wn\n",
    "from nltk.stem import PorterStemmer, WordNetLemmatizer\n",
    "import numpy as np\n",
    "from sklearn.feature_extraction.text import CountVectorizer\n",
    "\n",
    "nltk.download('stopwords')\n",
    "nltk.download('punkt')\n",
    "nltk.download('averaged_perceptron_tagger')\n",
    "nltk.download('wordnet')\n",
    "nltk.download('omw-1.4')"
   ]
  },
  {
   "cell_type": "markdown",
   "id": "b6badafe",
   "metadata": {},
   "source": [
    "### Importing Data"
   ]
  },
  {
   "cell_type": "code",
   "execution_count": null,
   "id": "371865ed",
   "metadata": {},
   "outputs": [],
   "source": [
    "raw_df = pd.read_csv('training.1600000.processed.noemoticon.csv', encoding='latin-1', header=None,\n",
    "                         names=['polarity', 'id', 'date', 'query', 'user', 'tweet'])\n",
    "raw_df"
   ]
  },
  {
   "cell_type": "markdown",
   "id": "7d16e3da",
   "metadata": {},
   "source": [
    "### Removing Unnecessary Data"
   ]
  },
  {
   "cell_type": "code",
   "execution_count": null,
   "id": "dfc93547",
   "metadata": {},
   "outputs": [],
   "source": [
    "df = raw_df.drop(columns=['id', 'query', 'polarity', 'user', 'date'])\n",
    "# df['datetime'] = raw_df['date'].apply(lambda x: pd.to_datetime(x.replace('PDT ', '')))\n",
    "df"
   ]
  },
  {
   "cell_type": "code",
   "execution_count": null,
   "id": "fffbb341",
   "metadata": {},
   "outputs": [],
   "source": [
    "y = raw_df['polarity']\n",
    "print(f\"Unique Elements of y: {pd.unique(y)}\")\n",
    "# Change y from [0, 4] to [0, 1]\n",
    "y = y.apply(lambda x: 1 if x==4 else 0)\n",
    "y"
   ]
  },
  {
   "cell_type": "markdown",
   "id": "3b36aeb0",
   "metadata": {},
   "source": [
    "# Data Preprocessing"
   ]
  },
  {
   "cell_type": "code",
   "execution_count": null,
   "id": "5d3c98a0",
   "metadata": {},
   "outputs": [],
   "source": [
    "processed_df = df.copy(deep=True)\n",
    "tokenizer = RegexpTokenizer(r\"(?:\\#+[\\w_]+[\\w\\'_\\-]*[\\w_]+)|\\w+|[^\\w\\s]+\")\n",
    "\n",
    "\n",
    "# Remove URLs and User Mentions. All Twitter handles must be within 4 to 15 characters\n",
    "processed_df['tweet'] = processed_df['tweet'].apply(lambda x: re.sub(r\"http\\S+|@\\w{4,15}|#\", \"\", x))\n",
    "processed_df"
   ]
  },
  {
   "cell_type": "code",
   "execution_count": null,
   "id": "8a3c2414",
   "metadata": {},
   "outputs": [],
   "source": [
    "# Tokenize Tweets into Sentences\n",
    "processed_df['sentence_tokens'] = processed_df['tweet'].apply(lambda x: sent_tokenize(x))"
   ]
  },
  {
   "cell_type": "code",
   "execution_count": null,
   "id": "f5a12bbd",
   "metadata": {
    "scrolled": true
   },
   "outputs": [],
   "source": [
    "# Extract Part-Of-Speech Tags\n",
    "processed_df['pos_tags'] = processed_df['sentence_tokens'].apply(lambda x: [nltk.pos_tag(tokenizer.tokenize(sent)) for sent in x])\n",
    "processed_df"
   ]
  },
  {
   "cell_type": "code",
   "execution_count": null,
   "id": "f8d02fe7",
   "metadata": {},
   "outputs": [],
   "source": [
    "# pattern = regex.compile(r\"(.)/\\1{2,}\")\n",
    "# pattern.sub(r\"\\1\\1\\1\", text)\n",
    "# Tokenize Tweets into Words\n",
    "processed_df['word_tokens'] = processed_df['tweet'].apply(lambda x: tokenizer.tokenize(x))\n",
    "processed_df"
   ]
  },
  {
   "cell_type": "code",
   "execution_count": null,
   "id": "faec49a9",
   "metadata": {
    "scrolled": true
   },
   "outputs": [],
   "source": [
    "# Generate stop words\n",
    "print(\"Stop Words: \", stopwords.words('english'))\n",
    "stop_words = set(stopwords.words('english'))\n",
    "# Remove stop words from tokenized tweets\n",
    "processed_df['word_tokens_no_stop_words'] = processed_df['word_tokens'].apply(lambda x: [w for w in x if not w.lower() in stop_words])\n",
    "processed_df"
   ]
  },
  {
   "cell_type": "code",
   "execution_count": null,
   "id": "318f76fa",
   "metadata": {
    "scrolled": false
   },
   "outputs": [],
   "source": [
    "# Source: https://github.com/nltk/nltk/blob/develop/nltk/stem/wordnet.py\n",
    "def penn2morphy(penntag) -> str:\n",
    "    \"\"\"\n",
    "    Converts tags from Penn format (input: single string) to Morphy.\n",
    "    \"\"\"\n",
    "    morphy_tag = {'NN':'n', 'JJ':'a', 'VB':'v', 'RB':'r'}\n",
    "    try:\n",
    "        return morphy_tag[penntag[:2]]\n",
    "    except:\n",
    "        return None\n",
    "\n",
    "processed_df['pos_tags_adjusted_no_stop_words'] = processed_df['pos_tags'].apply(\n",
    "    lambda x: [(w[0], penn2morphy(w[1])) for s in x for w in s if not w[0].lower() in stop_words])\n",
    "processed_df"
   ]
  },
  {
   "cell_type": "code",
   "execution_count": null,
   "id": "5c023a3e",
   "metadata": {
    "scrolled": false
   },
   "outputs": [],
   "source": [
    "# Stemming words in Tweet\n",
    "ps = PorterStemmer()\n",
    "processed_df['word_tokens_no_stop_stemmed'] = processed_df['word_tokens_no_stop_words'].apply(lambda x: [ps.stem(w) for w in x if not w == ''])\n",
    "processed_df"
   ]
  },
  {
   "cell_type": "code",
   "execution_count": null,
   "id": "35956006",
   "metadata": {},
   "outputs": [],
   "source": [
    "# Lemmatizing words in Tweet\n",
    "lemmatizer = WordNetLemmatizer()\n",
    "processed_df['word_tokens_no_stop_lemmatized'] = processed_df['pos_tags_adjusted_no_stop_words'].apply(lambda x: [lemmatizer.lemmatize(word=w[0].lower(), pos=w[1]) if w[1] != None else w[0].lower() for w in x])\n",
    "processed_df"
   ]
  },
  {
   "cell_type": "code",
   "execution_count": null,
   "id": "308ba15d",
   "metadata": {},
   "outputs": [],
   "source": [
    "import string\n",
    "processed_df['tweet_str_no_stop_stemmed'] = processed_df['word_tokens_no_stop_stemmed'].apply(lambda x: ' '.join(x).translate(str.maketrans('', '', string.punctuation)))\n",
    "processed_df['tweet_str_no_stop_lemmatized'] = processed_df['word_tokens_no_stop_lemmatized'].apply(lambda x: ' '.join(x).translate(str.maketrans('', '', string.punctuation)))\n",
    "processed_df"
   ]
  },
  {
   "cell_type": "code",
   "execution_count": null,
   "id": "80ffc192",
   "metadata": {},
   "outputs": [],
   "source": [
    "# Pickle processed_df\n",
    "y.to_pickle(\"y.pickle\")\n",
    "processed_df.to_pickle(\"processed_df.pickle\")"
   ]
  },
  {
   "cell_type": "code",
   "execution_count": 2,
   "id": "53bd3ca0",
   "metadata": {
    "scrolled": true
   },
   "outputs": [
    {
     "data": {
      "text/html": [
       "<div>\n",
       "<style scoped>\n",
       "    .dataframe tbody tr th:only-of-type {\n",
       "        vertical-align: middle;\n",
       "    }\n",
       "\n",
       "    .dataframe tbody tr th {\n",
       "        vertical-align: top;\n",
       "    }\n",
       "\n",
       "    .dataframe thead th {\n",
       "        text-align: right;\n",
       "    }\n",
       "</style>\n",
       "<table border=\"1\" class=\"dataframe\">\n",
       "  <thead>\n",
       "    <tr style=\"text-align: right;\">\n",
       "      <th></th>\n",
       "      <th>tweet</th>\n",
       "      <th>sentence_tokens</th>\n",
       "      <th>pos_tags</th>\n",
       "      <th>word_tokens</th>\n",
       "      <th>word_tokens_no_stop_words</th>\n",
       "      <th>pos_tags_adjusted_no_stop_words</th>\n",
       "      <th>word_tokens_no_stop_stemmed</th>\n",
       "      <th>word_tokens_no_stop_lemmatized</th>\n",
       "      <th>tweet_str_no_stop_stemmed</th>\n",
       "      <th>tweet_str_no_stop_lemmatized</th>\n",
       "    </tr>\n",
       "  </thead>\n",
       "  <tbody>\n",
       "    <tr>\n",
       "      <th>0</th>\n",
       "      <td>- Awww, that's a bummer.  You shoulda got Da...</td>\n",
       "      <td>[  - Awww, that's a bummer., You shoulda got D...</td>\n",
       "      <td>[[(-, :), (Awww, NN), (,, ,), (that, IN), (', ...</td>\n",
       "      <td>[-, Awww, ,, that, ', s, a, bummer, ., You, sh...</td>\n",
       "      <td>[-, Awww, ,, ', bummer, ., shoulda, got, David...</td>\n",
       "      <td>[(-, None), (Awww, n), (,, None), (', None), (...</td>\n",
       "      <td>[-, awww, ,, ', bummer, ., shoulda, got, david...</td>\n",
       "      <td>[-, awww, ,, ', bummer, ., shoulda, get, david...</td>\n",
       "      <td>awww   bummer  shoulda got david carr third d...</td>\n",
       "      <td>awww   bummer  shoulda get david carr third d...</td>\n",
       "    </tr>\n",
       "    <tr>\n",
       "      <th>1</th>\n",
       "      <td>is upset that he can't update his Facebook by ...</td>\n",
       "      <td>[is upset that he can't update his Facebook by...</td>\n",
       "      <td>[[(is, VBZ), (upset, JJ), (that, IN), (he, PRP...</td>\n",
       "      <td>[is, upset, that, he, can, ', t, update, his, ...</td>\n",
       "      <td>[upset, ', update, Facebook, texting, ..., mig...</td>\n",
       "      <td>[(upset, a), (', None), (update, v), (Facebook...</td>\n",
       "      <td>[upset, ', updat, facebook, text, ..., might, ...</td>\n",
       "      <td>[upset, ', update, facebook, texting, ..., mig...</td>\n",
       "      <td>upset  updat facebook text  might cri result s...</td>\n",
       "      <td>upset  update facebook texting  might cry resu...</td>\n",
       "    </tr>\n",
       "    <tr>\n",
       "      <th>2</th>\n",
       "      <td>I dived many times for the ball. Managed to s...</td>\n",
       "      <td>[ I dived many times for the ball., Managed to...</td>\n",
       "      <td>[[(I, PRP), (dived, VBD), (many, JJ), (times, ...</td>\n",
       "      <td>[I, dived, many, times, for, the, ball, ., Man...</td>\n",
       "      <td>[dived, many, times, ball, ., Managed, save, 5...</td>\n",
       "      <td>[(dived, v), (many, a), (times, n), (ball, n),...</td>\n",
       "      <td>[dive, mani, time, ball, ., manag, save, 50, %...</td>\n",
       "      <td>[dive, many, time, ball, ., manage, save, 50, ...</td>\n",
       "      <td>dive mani time ball  manag save 50  rest go bound</td>\n",
       "      <td>dive many time ball  manage save 50  rest go b...</td>\n",
       "    </tr>\n",
       "    <tr>\n",
       "      <th>3</th>\n",
       "      <td>my whole body feels itchy and like its on fire</td>\n",
       "      <td>[my whole body feels itchy and like its on fire]</td>\n",
       "      <td>[[(my, PRP$), (whole, JJ), (body, NN), (feels,...</td>\n",
       "      <td>[my, whole, body, feels, itchy, and, like, its...</td>\n",
       "      <td>[whole, body, feels, itchy, like, fire]</td>\n",
       "      <td>[(whole, a), (body, n), (feels, n), (itchy, v)...</td>\n",
       "      <td>[whole, bodi, feel, itchi, like, fire]</td>\n",
       "      <td>[whole, body, feel, itchy, like, fire]</td>\n",
       "      <td>whole bodi feel itchi like fire</td>\n",
       "      <td>whole body feel itchy like fire</td>\n",
       "    </tr>\n",
       "    <tr>\n",
       "      <th>4</th>\n",
       "      <td>no, it's not behaving at all. i'm mad. why am...</td>\n",
       "      <td>[ no, it's not behaving at all., i'm mad., why...</td>\n",
       "      <td>[[(no, DT), (,, ,), (it, PRP), (', ''), (s, VB...</td>\n",
       "      <td>[no, ,, it, ', s, not, behaving, at, all, ., i...</td>\n",
       "      <td>[,, ', behaving, ., ', mad, ., ?, ', see, .]</td>\n",
       "      <td>[(,, None), (', None), (behaving, v), (., None...</td>\n",
       "      <td>[,, ', behav, ., ', mad, ., ?, ', see, .]</td>\n",
       "      <td>[,, ', behave, ., ', mad, ., ?, ', see, .]</td>\n",
       "      <td>behav   mad    see</td>\n",
       "      <td>behave   mad    see</td>\n",
       "    </tr>\n",
       "    <tr>\n",
       "      <th>...</th>\n",
       "      <td>...</td>\n",
       "      <td>...</td>\n",
       "      <td>...</td>\n",
       "      <td>...</td>\n",
       "      <td>...</td>\n",
       "      <td>...</td>\n",
       "      <td>...</td>\n",
       "      <td>...</td>\n",
       "      <td>...</td>\n",
       "      <td>...</td>\n",
       "    </tr>\n",
       "    <tr>\n",
       "      <th>1599995</th>\n",
       "      <td>Just woke up. Having no school is the best fee...</td>\n",
       "      <td>[Just woke up., Having no school is the best f...</td>\n",
       "      <td>[[(Just, RB), (woke, VBD), (up, RP), (., .)], ...</td>\n",
       "      <td>[Just, woke, up, ., Having, no, school, is, th...</td>\n",
       "      <td>[woke, ., school, best, feeling, ever]</td>\n",
       "      <td>[(woke, v), (., None), (school, n), (best, a),...</td>\n",
       "      <td>[woke, ., school, best, feel, ever]</td>\n",
       "      <td>[wake, ., school, best, feeling, ever]</td>\n",
       "      <td>woke  school best feel ever</td>\n",
       "      <td>wake  school best feeling ever</td>\n",
       "    </tr>\n",
       "    <tr>\n",
       "      <th>1599996</th>\n",
       "      <td>TheWDB.com - Very cool to hear old Walt interv...</td>\n",
       "      <td>[TheWDB.com - Very cool to hear old Walt inter...</td>\n",
       "      <td>[[(TheWDB, NNP), (., .), (com, NN), (-, :), (V...</td>\n",
       "      <td>[TheWDB, ., com, -, Very, cool, to, hear, old,...</td>\n",
       "      <td>[TheWDB, ., com, -, cool, hear, old, Walt, int...</td>\n",
       "      <td>[(TheWDB, n), (., None), (com, n), (-, None), ...</td>\n",
       "      <td>[thewdb, ., com, -, cool, hear, old, walt, int...</td>\n",
       "      <td>[thewdb, ., com, -, cool, hear, old, walt, int...</td>\n",
       "      <td>thewdb  com  cool hear old walt interview  â «</td>\n",
       "      <td>thewdb  com  cool hear old walt interview  â «</td>\n",
       "    </tr>\n",
       "    <tr>\n",
       "      <th>1599997</th>\n",
       "      <td>Are you ready for your MoJo Makeover? Ask me f...</td>\n",
       "      <td>[Are you ready for your MoJo Makeover?, Ask me...</td>\n",
       "      <td>[[(Are, NNP), (you, PRP), (ready, JJ), (for, I...</td>\n",
       "      <td>[Are, you, ready, for, your, MoJo, Makeover, ?...</td>\n",
       "      <td>[ready, MoJo, Makeover, ?, Ask, details]</td>\n",
       "      <td>[(ready, a), (MoJo, n), (Makeover, n), (?, Non...</td>\n",
       "      <td>[readi, mojo, makeov, ?, ask, detail]</td>\n",
       "      <td>[ready, mojo, makeover, ?, ask, detail]</td>\n",
       "      <td>readi mojo makeov  ask detail</td>\n",
       "      <td>ready mojo makeover  ask detail</td>\n",
       "    </tr>\n",
       "    <tr>\n",
       "      <th>1599998</th>\n",
       "      <td>Happy 38th Birthday to my boo of alll time!!! ...</td>\n",
       "      <td>[Happy 38th Birthday to my boo of alll time!!!...</td>\n",
       "      <td>[[(Happy, JJ), (38th, CD), (Birthday, NN), (to...</td>\n",
       "      <td>[Happy, 38th, Birthday, to, my, boo, of, alll,...</td>\n",
       "      <td>[Happy, 38th, Birthday, boo, alll, time, !!!, ...</td>\n",
       "      <td>[(Happy, a), (38th, None), (Birthday, n), (boo...</td>\n",
       "      <td>[happi, 38th, birthday, boo, alll, time, !!!, ...</td>\n",
       "      <td>[happy, 38th, birthday, boo, alll, time, !!!, ...</td>\n",
       "      <td>happi 38th birthday boo alll time  tupac amaru...</td>\n",
       "      <td>happy 38th birthday boo alll time  tupac amaru...</td>\n",
       "    </tr>\n",
       "    <tr>\n",
       "      <th>1599999</th>\n",
       "      <td>happy charitytuesday</td>\n",
       "      <td>[happy charitytuesday]</td>\n",
       "      <td>[[(happy, JJ), (charitytuesday, NN)]]</td>\n",
       "      <td>[happy, charitytuesday]</td>\n",
       "      <td>[happy, charitytuesday]</td>\n",
       "      <td>[(happy, a), (charitytuesday, n)]</td>\n",
       "      <td>[happi, charitytuesday]</td>\n",
       "      <td>[happy, charitytuesday]</td>\n",
       "      <td>happi charitytuesday</td>\n",
       "      <td>happy charitytuesday</td>\n",
       "    </tr>\n",
       "  </tbody>\n",
       "</table>\n",
       "<p>1600000 rows × 10 columns</p>\n",
       "</div>"
      ],
      "text/plain": [
       "                                                     tweet  \\\n",
       "0          - Awww, that's a bummer.  You shoulda got Da...   \n",
       "1        is upset that he can't update his Facebook by ...   \n",
       "2         I dived many times for the ball. Managed to s...   \n",
       "3          my whole body feels itchy and like its on fire    \n",
       "4         no, it's not behaving at all. i'm mad. why am...   \n",
       "...                                                    ...   \n",
       "1599995  Just woke up. Having no school is the best fee...   \n",
       "1599996  TheWDB.com - Very cool to hear old Walt interv...   \n",
       "1599997  Are you ready for your MoJo Makeover? Ask me f...   \n",
       "1599998  Happy 38th Birthday to my boo of alll time!!! ...   \n",
       "1599999                           happy charitytuesday       \n",
       "\n",
       "                                           sentence_tokens  \\\n",
       "0        [  - Awww, that's a bummer., You shoulda got D...   \n",
       "1        [is upset that he can't update his Facebook by...   \n",
       "2        [ I dived many times for the ball., Managed to...   \n",
       "3         [my whole body feels itchy and like its on fire]   \n",
       "4        [ no, it's not behaving at all., i'm mad., why...   \n",
       "...                                                    ...   \n",
       "1599995  [Just woke up., Having no school is the best f...   \n",
       "1599996  [TheWDB.com - Very cool to hear old Walt inter...   \n",
       "1599997  [Are you ready for your MoJo Makeover?, Ask me...   \n",
       "1599998  [Happy 38th Birthday to my boo of alll time!!!...   \n",
       "1599999                             [happy charitytuesday]   \n",
       "\n",
       "                                                  pos_tags  \\\n",
       "0        [[(-, :), (Awww, NN), (,, ,), (that, IN), (', ...   \n",
       "1        [[(is, VBZ), (upset, JJ), (that, IN), (he, PRP...   \n",
       "2        [[(I, PRP), (dived, VBD), (many, JJ), (times, ...   \n",
       "3        [[(my, PRP$), (whole, JJ), (body, NN), (feels,...   \n",
       "4        [[(no, DT), (,, ,), (it, PRP), (', ''), (s, VB...   \n",
       "...                                                    ...   \n",
       "1599995  [[(Just, RB), (woke, VBD), (up, RP), (., .)], ...   \n",
       "1599996  [[(TheWDB, NNP), (., .), (com, NN), (-, :), (V...   \n",
       "1599997  [[(Are, NNP), (you, PRP), (ready, JJ), (for, I...   \n",
       "1599998  [[(Happy, JJ), (38th, CD), (Birthday, NN), (to...   \n",
       "1599999              [[(happy, JJ), (charitytuesday, NN)]]   \n",
       "\n",
       "                                               word_tokens  \\\n",
       "0        [-, Awww, ,, that, ', s, a, bummer, ., You, sh...   \n",
       "1        [is, upset, that, he, can, ', t, update, his, ...   \n",
       "2        [I, dived, many, times, for, the, ball, ., Man...   \n",
       "3        [my, whole, body, feels, itchy, and, like, its...   \n",
       "4        [no, ,, it, ', s, not, behaving, at, all, ., i...   \n",
       "...                                                    ...   \n",
       "1599995  [Just, woke, up, ., Having, no, school, is, th...   \n",
       "1599996  [TheWDB, ., com, -, Very, cool, to, hear, old,...   \n",
       "1599997  [Are, you, ready, for, your, MoJo, Makeover, ?...   \n",
       "1599998  [Happy, 38th, Birthday, to, my, boo, of, alll,...   \n",
       "1599999                            [happy, charitytuesday]   \n",
       "\n",
       "                                 word_tokens_no_stop_words  \\\n",
       "0        [-, Awww, ,, ', bummer, ., shoulda, got, David...   \n",
       "1        [upset, ', update, Facebook, texting, ..., mig...   \n",
       "2        [dived, many, times, ball, ., Managed, save, 5...   \n",
       "3                  [whole, body, feels, itchy, like, fire]   \n",
       "4             [,, ', behaving, ., ', mad, ., ?, ', see, .]   \n",
       "...                                                    ...   \n",
       "1599995             [woke, ., school, best, feeling, ever]   \n",
       "1599996  [TheWDB, ., com, -, cool, hear, old, Walt, int...   \n",
       "1599997           [ready, MoJo, Makeover, ?, Ask, details]   \n",
       "1599998  [Happy, 38th, Birthday, boo, alll, time, !!!, ...   \n",
       "1599999                            [happy, charitytuesday]   \n",
       "\n",
       "                           pos_tags_adjusted_no_stop_words  \\\n",
       "0        [(-, None), (Awww, n), (,, None), (', None), (...   \n",
       "1        [(upset, a), (', None), (update, v), (Facebook...   \n",
       "2        [(dived, v), (many, a), (times, n), (ball, n),...   \n",
       "3        [(whole, a), (body, n), (feels, n), (itchy, v)...   \n",
       "4        [(,, None), (', None), (behaving, v), (., None...   \n",
       "...                                                    ...   \n",
       "1599995  [(woke, v), (., None), (school, n), (best, a),...   \n",
       "1599996  [(TheWDB, n), (., None), (com, n), (-, None), ...   \n",
       "1599997  [(ready, a), (MoJo, n), (Makeover, n), (?, Non...   \n",
       "1599998  [(Happy, a), (38th, None), (Birthday, n), (boo...   \n",
       "1599999                  [(happy, a), (charitytuesday, n)]   \n",
       "\n",
       "                               word_tokens_no_stop_stemmed  \\\n",
       "0        [-, awww, ,, ', bummer, ., shoulda, got, david...   \n",
       "1        [upset, ', updat, facebook, text, ..., might, ...   \n",
       "2        [dive, mani, time, ball, ., manag, save, 50, %...   \n",
       "3                   [whole, bodi, feel, itchi, like, fire]   \n",
       "4                [,, ', behav, ., ', mad, ., ?, ', see, .]   \n",
       "...                                                    ...   \n",
       "1599995                [woke, ., school, best, feel, ever]   \n",
       "1599996  [thewdb, ., com, -, cool, hear, old, walt, int...   \n",
       "1599997              [readi, mojo, makeov, ?, ask, detail]   \n",
       "1599998  [happi, 38th, birthday, boo, alll, time, !!!, ...   \n",
       "1599999                            [happi, charitytuesday]   \n",
       "\n",
       "                            word_tokens_no_stop_lemmatized  \\\n",
       "0        [-, awww, ,, ', bummer, ., shoulda, get, david...   \n",
       "1        [upset, ', update, facebook, texting, ..., mig...   \n",
       "2        [dive, many, time, ball, ., manage, save, 50, ...   \n",
       "3                   [whole, body, feel, itchy, like, fire]   \n",
       "4               [,, ', behave, ., ', mad, ., ?, ', see, .]   \n",
       "...                                                    ...   \n",
       "1599995             [wake, ., school, best, feeling, ever]   \n",
       "1599996  [thewdb, ., com, -, cool, hear, old, walt, int...   \n",
       "1599997            [ready, mojo, makeover, ?, ask, detail]   \n",
       "1599998  [happy, 38th, birthday, boo, alll, time, !!!, ...   \n",
       "1599999                            [happy, charitytuesday]   \n",
       "\n",
       "                                 tweet_str_no_stop_stemmed  \\\n",
       "0         awww   bummer  shoulda got david carr third d...   \n",
       "1        upset  updat facebook text  might cri result s...   \n",
       "2        dive mani time ball  manag save 50  rest go bound   \n",
       "3                          whole bodi feel itchi like fire   \n",
       "4                                      behav   mad    see    \n",
       "...                                                    ...   \n",
       "1599995                        woke  school best feel ever   \n",
       "1599996    thewdb  com  cool hear old walt interview  â «   \n",
       "1599997                      readi mojo makeov  ask detail   \n",
       "1599998  happi 38th birthday boo alll time  tupac amaru...   \n",
       "1599999                               happi charitytuesday   \n",
       "\n",
       "                              tweet_str_no_stop_lemmatized  \n",
       "0         awww   bummer  shoulda get david carr third d...  \n",
       "1        upset  update facebook texting  might cry resu...  \n",
       "2        dive many time ball  manage save 50  rest go b...  \n",
       "3                          whole body feel itchy like fire  \n",
       "4                                     behave   mad    see   \n",
       "...                                                    ...  \n",
       "1599995                     wake  school best feeling ever  \n",
       "1599996    thewdb  com  cool hear old walt interview  â «  \n",
       "1599997                    ready mojo makeover  ask detail  \n",
       "1599998  happy 38th birthday boo alll time  tupac amaru...  \n",
       "1599999                               happy charitytuesday  \n",
       "\n",
       "[1600000 rows x 10 columns]"
      ]
     },
     "execution_count": 2,
     "metadata": {},
     "output_type": "execute_result"
    }
   ],
   "source": [
    "# Read processed_df from pickle file\n",
    "processed_df = pd.read_pickle(\"processed_df.pickle\")\n",
    "y = pd.read_pickle(\"y.pickle\")\n",
    "processed_df"
   ]
  },
  {
   "cell_type": "markdown",
   "id": "4e7498be",
   "metadata": {},
   "source": [
    "# GloVe"
   ]
  },
  {
   "cell_type": "markdown",
   "id": "ac33671f",
   "metadata": {},
   "source": [
    "### Download GloVe Twitter Pre-Trained Vectors"
   ]
  },
  {
   "cell_type": "code",
   "execution_count": null,
   "id": "bc825e36",
   "metadata": {},
   "outputs": [],
   "source": [
    "# Download and Extract GloVe Twitter Vectors\n",
    "r = requests.get('http://nlp.stanford.edu/data/glove.twitter.27B.zip', stream=True)\n",
    "z = zipfile.ZipFile(io.BytesIO(r.content))\n",
    "z.extractall(\"GloVe.Twitter.27B\")"
   ]
  },
  {
   "cell_type": "code",
   "execution_count": 3,
   "id": "9bd30da9",
   "metadata": {},
   "outputs": [],
   "source": [
    "from sklearn.model_selection import KFold\n",
    "# Simple Kfold\n",
    "def kfold(network, neg_tweets, pos_tweets, batch_size):\n",
    "    kf = KFold(n_splits=5)\n",
    "    n = 0\n",
    "    fold_times = []\n",
    "    histories = []\n",
    "    if len(neg_tweets) > len(pos_tweets):\n",
    "        tweets = pos_tweets \n",
    "    else: tweets = neg_tweets\n",
    "    for train_idx, test_idx in kf.split(tweets):\n",
    "        start = datetime.now()\n",
    "        print(f\"Fold {n}\")\n",
    "        n+=1\n",
    "        print(f\"Test Index Start:{test_idx[0]}\")\n",
    "        print(f\"Test Set Size:{len(test_idx)}\")\n",
    "        train_tweets = np.append(neg_tweets[train_idx], pos_tweets[train_idx], axis=0)\n",
    "        train_labels = np.append(np.full(len(train_idx), 0), np.full(len(train_idx), 1))\n",
    "\n",
    "        test_tweets = np.append(neg_tweets[test_idx], pos_tweets[test_idx], axis=0)\n",
    "        test_labels = np.append(np.full(len(test_idx), 0), np.full(len(test_idx), 1))\n",
    "        validation_data = (test_tweets, test_labels)\n",
    "        \n",
    "        history = network.fit(train_tweets, train_labels, batch_size=batch_size, validation_data=validation_data, \n",
    "                              epochs=20, verbose=0, use_multiprocessing=True)\n",
    "        histories.append(history)\n",
    "        summarize_diagnostics(history=history) \n",
    "#         train_loss, train_acc = network.evaluate(train_tweets, train_labels, verbose=1)\n",
    "#         test_loss, test_acc = network.evaluate(test_tweets, test_labels, verbose=1)\n",
    "#         print(f\"Train Loss: {train_loss}; Train Accuracy: {train_acc}\")\n",
    "#         print(f\"Test Loss: {test_loss}; Test Accuracy: {test_acc}\")\n",
    "        fold_time = datetime.now()-start\n",
    "        fold_times.append(fold_time.total_seconds())\n",
    "        print(\"fold time: \", fold_time)\n",
    "    summarize_diagnostics(histories=histories)\n",
    "    print(timedelta(seconds=np.average(fold_times)))\n",
    "\n",
    "# Plots results to graph\n",
    "import matplotlib.pyplot as plt\n",
    "def summarize_diagnostics(history=None, histories=None):\n",
    "    # plot loss\n",
    "    plt.subplot(211)\n",
    "    plt.tight_layout()\n",
    "    plt.title('Cross Entropy Loss')\n",
    "    if history:\n",
    "        plt.plot(history.history['loss'], color='blue', label='train')\n",
    "        plt.plot(history.history['val_loss'], color='orange', label='test')\n",
    "    else:\n",
    "        plt.plot(np.mean([history.history['loss'] for history in histories], axis=0), color='blue', label='train')\n",
    "        plt.plot(np.mean([history.history['val_loss'] for history in histories], axis=0), color='orange', label='test')\n",
    "    # plot accuracy\n",
    "    plt.subplot(212)\n",
    "    plt.title('Classification Accuracy')\n",
    "    if history:\n",
    "        plt.plot(history.history['accuracy'], color='blue', label='train')\n",
    "        plt.plot(history.history['val_accuracy'], color='orange', label='test')\n",
    "    else:\n",
    "        plt.plot(np.mean([history.history['accuracy'] for history in histories], axis=0), color='blue', label='train')\n",
    "        plt.plot(np.mean([history.history['val_accuracy'] for history in histories], axis=0), color='orange', label='test')\n",
    "    plt.legend()\n",
    "    plt.show()"
   ]
  },
  {
   "cell_type": "code",
   "execution_count": 4,
   "id": "1f63f194",
   "metadata": {
    "scrolled": false
   },
   "outputs": [
    {
     "name": "stdout",
     "output_type": "stream",
     "text": [
      "Model: \"sequential\"\n",
      "_________________________________________________________________\n",
      " Layer (type)                Output Shape              Param #   \n",
      "=================================================================\n",
      " dense (Dense)               (None, 64)                32064     \n",
      "                                                                 \n",
      " dense_1 (Dense)             (None, 128)               8320      \n",
      "                                                                 \n",
      " dense_2 (Dense)             (None, 256)               33024     \n",
      "                                                                 \n",
      " dropout (Dropout)           (None, 256)               0         \n",
      "                                                                 \n",
      " dense_3 (Dense)             (None, 1)                 257       \n",
      "                                                                 \n",
      "=================================================================\n",
      "Total params: 73,665\n",
      "Trainable params: 73,665\n",
      "Non-trainable params: 0\n",
      "_________________________________________________________________\n"
     ]
    }
   ],
   "source": [
    "# Create model\n",
    "model = tf.keras.models.Sequential([\n",
    "    tf.keras.layers.Dense(64, input_dim=500, activation='relu', kernel_regularizer=tf.keras.regularizers.L2(0.001)),\n",
    "    tf.keras.layers.Dense(128, activation='relu', kernel_regularizer=tf.keras.regularizers.L2(0.001)),\n",
    "    tf.keras.layers.Dense(256, activation='relu', kernel_regularizer=tf.keras.regularizers.L2(0.001)),\n",
    "    tf.keras.layers.Dropout(0.5),\n",
    "#     tf.keras.layers.Dense(8, activation='relu'),\n",
    "#     tf.keras.layers.Dense(16, activation='relu'),\n",
    "#     tf.keras.layers.Dropout(0.5),\n",
    "    tf.keras.layers.Dense(1, activation='sigmoid')\n",
    "])\n",
    "\n",
    "from tensorflow.keras.optimizers import Adam, SGD, RMSprop\n",
    "opt = Adam(learning_rate=0.0001)\n",
    "\n",
    "# Compile model\n",
    "model.compile(\n",
    "    loss='binary_crossentropy',\n",
    "    optimizer=opt,\n",
    "    metrics=['accuracy']\n",
    ")\n",
    "model.summary()"
   ]
  },
  {
   "cell_type": "code",
   "execution_count": 6,
   "id": "30659b96",
   "metadata": {},
   "outputs": [],
   "source": [
    "tf.keras.backend.clear_session()"
   ]
  },
  {
   "cell_type": "code",
   "execution_count": 5,
   "id": "0ed06c30",
   "metadata": {
    "scrolled": true
   },
   "outputs": [
    {
     "name": "stdout",
     "output_type": "stream",
     "text": [
      "200000 200000\n",
      "Fold 0\n",
      "Test Index Start:0\n",
      "Test Set Size:40000\n"
     ]
    },
    {
     "data": {
      "image/png": "[encoded data removed]",
      "text/plain": [
       "<Figure size 432x288 with 2 Axes>"
      ]
     },
     "metadata": {
      "needs_background": "light"
     },
     "output_type": "display_data"
    },
    {
     "name": "stdout",
     "output_type": "stream",
     "text": [
      "fold time:  0:01:20.973552\n",
      "Fold 1\n",
      "Test Index Start:40000\n",
      "Test Set Size:40000\n"
     ]
    },
    {
     "ename": "KeyboardInterrupt",
     "evalue": "",
     "output_type": "error",
     "traceback": [
      "\u001b[1;31m---------------------------------------------------------------------------\u001b[0m",
      "\u001b[1;31mKeyboardInterrupt\u001b[0m                         Traceback (most recent call last)",
      "Input \u001b[1;32mIn [5]\u001b[0m, in \u001b[0;36m<module>\u001b[1;34m\u001b[0m\n\u001b[0;32m      5\u001b[0m pos_tweets_stem \u001b[38;5;241m=\u001b[39m np\u001b[38;5;241m.\u001b[39marray([X[i] \u001b[38;5;28;01mfor\u001b[39;00m i \u001b[38;5;129;01min\u001b[39;00m \u001b[38;5;28mrange\u001b[39m(\u001b[38;5;28mlen\u001b[39m(y)) \u001b[38;5;28;01mif\u001b[39;00m y[i]\u001b[38;5;241m==\u001b[39m\u001b[38;5;241m1\u001b[39m \u001b[38;5;129;01mand\u001b[39;00m \u001b[38;5;28many\u001b[39m(X[i])])[:\u001b[38;5;241m200000\u001b[39m]\n\u001b[0;32m      6\u001b[0m \u001b[38;5;28mprint\u001b[39m(\u001b[38;5;28mlen\u001b[39m(neg_tweets_stem), \u001b[38;5;28mlen\u001b[39m(pos_tweets_stem))\n\u001b[1;32m----> 7\u001b[0m \u001b[43mkfold\u001b[49m\u001b[43m(\u001b[49m\u001b[43mmodel\u001b[49m\u001b[43m,\u001b[49m\u001b[43m \u001b[49m\u001b[43mneg_tweets_stem\u001b[49m\u001b[43m,\u001b[49m\u001b[43m \u001b[49m\u001b[43mpos_tweets_stem\u001b[49m\u001b[43m,\u001b[49m\u001b[43m \u001b[49m\u001b[38;5;241;43m256\u001b[39;49m\u001b[43m)\u001b[49m\n",
      "Input \u001b[1;32mIn [3]\u001b[0m, in \u001b[0;36mkfold\u001b[1;34m(network, neg_tweets, pos_tweets, batch_size)\u001b[0m\n\u001b[0;32m     21\u001b[0m test_labels \u001b[38;5;241m=\u001b[39m np\u001b[38;5;241m.\u001b[39mappend(np\u001b[38;5;241m.\u001b[39mfull(\u001b[38;5;28mlen\u001b[39m(test_idx), \u001b[38;5;241m0\u001b[39m), np\u001b[38;5;241m.\u001b[39mfull(\u001b[38;5;28mlen\u001b[39m(test_idx), \u001b[38;5;241m1\u001b[39m))\n\u001b[0;32m     22\u001b[0m validation_data \u001b[38;5;241m=\u001b[39m (test_tweets, test_labels)\n\u001b[1;32m---> 24\u001b[0m history \u001b[38;5;241m=\u001b[39m \u001b[43mnetwork\u001b[49m\u001b[38;5;241;43m.\u001b[39;49m\u001b[43mfit\u001b[49m\u001b[43m(\u001b[49m\u001b[43mtrain_tweets\u001b[49m\u001b[43m,\u001b[49m\u001b[43m \u001b[49m\u001b[43mtrain_labels\u001b[49m\u001b[43m,\u001b[49m\u001b[43m \u001b[49m\u001b[43mbatch_size\u001b[49m\u001b[38;5;241;43m=\u001b[39;49m\u001b[43mbatch_size\u001b[49m\u001b[43m,\u001b[49m\u001b[43m \u001b[49m\u001b[43mvalidation_data\u001b[49m\u001b[38;5;241;43m=\u001b[39;49m\u001b[43mvalidation_data\u001b[49m\u001b[43m,\u001b[49m\u001b[43m \u001b[49m\n\u001b[0;32m     25\u001b[0m \u001b[43m                      \u001b[49m\u001b[43mepochs\u001b[49m\u001b[38;5;241;43m=\u001b[39;49m\u001b[38;5;241;43m20\u001b[39;49m\u001b[43m,\u001b[49m\u001b[43m \u001b[49m\u001b[43mverbose\u001b[49m\u001b[38;5;241;43m=\u001b[39;49m\u001b[38;5;241;43m0\u001b[39;49m\u001b[43m,\u001b[49m\u001b[43m \u001b[49m\u001b[43muse_multiprocessing\u001b[49m\u001b[38;5;241;43m=\u001b[39;49m\u001b[38;5;28;43;01mTrue\u001b[39;49;00m\u001b[43m)\u001b[49m\n\u001b[0;32m     26\u001b[0m histories\u001b[38;5;241m.\u001b[39mappend(history)\n\u001b[0;32m     27\u001b[0m summarize_diagnostics(history\u001b[38;5;241m=\u001b[39mhistory) \n",
      "File \u001b[1;32m~\\AppData\\Roaming\\Python\\Python39\\site-packages\\keras\\utils\\traceback_utils.py:64\u001b[0m, in \u001b[0;36mfilter_traceback.<locals>.error_handler\u001b[1;34m(*args, **kwargs)\u001b[0m\n\u001b[0;32m     62\u001b[0m filtered_tb \u001b[38;5;241m=\u001b[39m \u001b[38;5;28;01mNone\u001b[39;00m\n\u001b[0;32m     63\u001b[0m \u001b[38;5;28;01mtry\u001b[39;00m:\n\u001b[1;32m---> 64\u001b[0m   \u001b[38;5;28;01mreturn\u001b[39;00m fn(\u001b[38;5;241m*\u001b[39margs, \u001b[38;5;241m*\u001b[39m\u001b[38;5;241m*\u001b[39mkwargs)\n\u001b[0;32m     65\u001b[0m \u001b[38;5;28;01mexcept\u001b[39;00m \u001b[38;5;167;01mException\u001b[39;00m \u001b[38;5;28;01mas\u001b[39;00m e:  \u001b[38;5;66;03m# pylint: disable=broad-except\u001b[39;00m\n\u001b[0;32m     66\u001b[0m   filtered_tb \u001b[38;5;241m=\u001b[39m _process_traceback_frames(e\u001b[38;5;241m.\u001b[39m__traceback__)\n",
      "File \u001b[1;32m~\\AppData\\Roaming\\Python\\Python39\\site-packages\\keras\\engine\\training.py:1384\u001b[0m, in \u001b[0;36mModel.fit\u001b[1;34m(self, x, y, batch_size, epochs, verbose, callbacks, validation_split, validation_data, shuffle, class_weight, sample_weight, initial_epoch, steps_per_epoch, validation_steps, validation_batch_size, validation_freq, max_queue_size, workers, use_multiprocessing)\u001b[0m\n\u001b[0;32m   1377\u001b[0m \u001b[38;5;28;01mwith\u001b[39;00m tf\u001b[38;5;241m.\u001b[39mprofiler\u001b[38;5;241m.\u001b[39mexperimental\u001b[38;5;241m.\u001b[39mTrace(\n\u001b[0;32m   1378\u001b[0m     \u001b[38;5;124m'\u001b[39m\u001b[38;5;124mtrain\u001b[39m\u001b[38;5;124m'\u001b[39m,\n\u001b[0;32m   1379\u001b[0m     epoch_num\u001b[38;5;241m=\u001b[39mepoch,\n\u001b[0;32m   1380\u001b[0m     step_num\u001b[38;5;241m=\u001b[39mstep,\n\u001b[0;32m   1381\u001b[0m     batch_size\u001b[38;5;241m=\u001b[39mbatch_size,\n\u001b[0;32m   1382\u001b[0m     _r\u001b[38;5;241m=\u001b[39m\u001b[38;5;241m1\u001b[39m):\n\u001b[0;32m   1383\u001b[0m   callbacks\u001b[38;5;241m.\u001b[39mon_train_batch_begin(step)\n\u001b[1;32m-> 1384\u001b[0m   tmp_logs \u001b[38;5;241m=\u001b[39m \u001b[38;5;28;43mself\u001b[39;49m\u001b[38;5;241;43m.\u001b[39;49m\u001b[43mtrain_function\u001b[49m\u001b[43m(\u001b[49m\u001b[43miterator\u001b[49m\u001b[43m)\u001b[49m\n\u001b[0;32m   1385\u001b[0m   \u001b[38;5;28;01mif\u001b[39;00m data_handler\u001b[38;5;241m.\u001b[39mshould_sync:\n\u001b[0;32m   1386\u001b[0m     context\u001b[38;5;241m.\u001b[39masync_wait()\n",
      "File \u001b[1;32m~\\AppData\\Roaming\\Python\\Python39\\site-packages\\tensorflow\\python\\util\\traceback_utils.py:150\u001b[0m, in \u001b[0;36mfilter_traceback.<locals>.error_handler\u001b[1;34m(*args, **kwargs)\u001b[0m\n\u001b[0;32m    148\u001b[0m filtered_tb \u001b[38;5;241m=\u001b[39m \u001b[38;5;28;01mNone\u001b[39;00m\n\u001b[0;32m    149\u001b[0m \u001b[38;5;28;01mtry\u001b[39;00m:\n\u001b[1;32m--> 150\u001b[0m   \u001b[38;5;28;01mreturn\u001b[39;00m fn(\u001b[38;5;241m*\u001b[39margs, \u001b[38;5;241m*\u001b[39m\u001b[38;5;241m*\u001b[39mkwargs)\n\u001b[0;32m    151\u001b[0m \u001b[38;5;28;01mexcept\u001b[39;00m \u001b[38;5;167;01mException\u001b[39;00m \u001b[38;5;28;01mas\u001b[39;00m e:\n\u001b[0;32m    152\u001b[0m   filtered_tb \u001b[38;5;241m=\u001b[39m _process_traceback_frames(e\u001b[38;5;241m.\u001b[39m__traceback__)\n",
      "File \u001b[1;32m~\\AppData\\Roaming\\Python\\Python39\\site-packages\\tensorflow\\python\\eager\\def_function.py:915\u001b[0m, in \u001b[0;36mFunction.__call__\u001b[1;34m(self, *args, **kwds)\u001b[0m\n\u001b[0;32m    912\u001b[0m compiler \u001b[38;5;241m=\u001b[39m \u001b[38;5;124m\"\u001b[39m\u001b[38;5;124mxla\u001b[39m\u001b[38;5;124m\"\u001b[39m \u001b[38;5;28;01mif\u001b[39;00m \u001b[38;5;28mself\u001b[39m\u001b[38;5;241m.\u001b[39m_jit_compile \u001b[38;5;28;01melse\u001b[39;00m \u001b[38;5;124m\"\u001b[39m\u001b[38;5;124mnonXla\u001b[39m\u001b[38;5;124m\"\u001b[39m\n\u001b[0;32m    914\u001b[0m \u001b[38;5;28;01mwith\u001b[39;00m OptionalXlaContext(\u001b[38;5;28mself\u001b[39m\u001b[38;5;241m.\u001b[39m_jit_compile):\n\u001b[1;32m--> 915\u001b[0m   result \u001b[38;5;241m=\u001b[39m \u001b[38;5;28mself\u001b[39m\u001b[38;5;241m.\u001b[39m_call(\u001b[38;5;241m*\u001b[39margs, \u001b[38;5;241m*\u001b[39m\u001b[38;5;241m*\u001b[39mkwds)\n\u001b[0;32m    917\u001b[0m new_tracing_count \u001b[38;5;241m=\u001b[39m \u001b[38;5;28mself\u001b[39m\u001b[38;5;241m.\u001b[39mexperimental_get_tracing_count()\n\u001b[0;32m    918\u001b[0m without_tracing \u001b[38;5;241m=\u001b[39m (tracing_count \u001b[38;5;241m==\u001b[39m new_tracing_count)\n",
      "File \u001b[1;32m~\\AppData\\Roaming\\Python\\Python39\\site-packages\\tensorflow\\python\\eager\\def_function.py:947\u001b[0m, in \u001b[0;36mFunction._call\u001b[1;34m(self, *args, **kwds)\u001b[0m\n\u001b[0;32m    944\u001b[0m   \u001b[38;5;28mself\u001b[39m\u001b[38;5;241m.\u001b[39m_lock\u001b[38;5;241m.\u001b[39mrelease()\n\u001b[0;32m    945\u001b[0m   \u001b[38;5;66;03m# In this case we have created variables on the first call, so we run the\u001b[39;00m\n\u001b[0;32m    946\u001b[0m   \u001b[38;5;66;03m# defunned version which is guaranteed to never create variables.\u001b[39;00m\n\u001b[1;32m--> 947\u001b[0m   \u001b[38;5;28;01mreturn\u001b[39;00m \u001b[38;5;28mself\u001b[39m\u001b[38;5;241m.\u001b[39m_stateless_fn(\u001b[38;5;241m*\u001b[39margs, \u001b[38;5;241m*\u001b[39m\u001b[38;5;241m*\u001b[39mkwds)  \u001b[38;5;66;03m# pylint: disable=not-callable\u001b[39;00m\n\u001b[0;32m    948\u001b[0m \u001b[38;5;28;01melif\u001b[39;00m \u001b[38;5;28mself\u001b[39m\u001b[38;5;241m.\u001b[39m_stateful_fn \u001b[38;5;129;01mis\u001b[39;00m \u001b[38;5;129;01mnot\u001b[39;00m \u001b[38;5;28;01mNone\u001b[39;00m:\n\u001b[0;32m    949\u001b[0m   \u001b[38;5;66;03m# Release the lock early so that multiple threads can perform the call\u001b[39;00m\n\u001b[0;32m    950\u001b[0m   \u001b[38;5;66;03m# in parallel.\u001b[39;00m\n\u001b[0;32m    951\u001b[0m   \u001b[38;5;28mself\u001b[39m\u001b[38;5;241m.\u001b[39m_lock\u001b[38;5;241m.\u001b[39mrelease()\n",
      "File \u001b[1;32m~\\AppData\\Roaming\\Python\\Python39\\site-packages\\tensorflow\\python\\eager\\function.py:2956\u001b[0m, in \u001b[0;36mFunction.__call__\u001b[1;34m(self, *args, **kwargs)\u001b[0m\n\u001b[0;32m   2953\u001b[0m \u001b[38;5;28;01mwith\u001b[39;00m \u001b[38;5;28mself\u001b[39m\u001b[38;5;241m.\u001b[39m_lock:\n\u001b[0;32m   2954\u001b[0m   (graph_function,\n\u001b[0;32m   2955\u001b[0m    filtered_flat_args) \u001b[38;5;241m=\u001b[39m \u001b[38;5;28mself\u001b[39m\u001b[38;5;241m.\u001b[39m_maybe_define_function(args, kwargs)\n\u001b[1;32m-> 2956\u001b[0m \u001b[38;5;28;01mreturn\u001b[39;00m \u001b[43mgraph_function\u001b[49m\u001b[38;5;241;43m.\u001b[39;49m\u001b[43m_call_flat\u001b[49m\u001b[43m(\u001b[49m\n\u001b[0;32m   2957\u001b[0m \u001b[43m    \u001b[49m\u001b[43mfiltered_flat_args\u001b[49m\u001b[43m,\u001b[49m\u001b[43m \u001b[49m\u001b[43mcaptured_inputs\u001b[49m\u001b[38;5;241;43m=\u001b[39;49m\u001b[43mgraph_function\u001b[49m\u001b[38;5;241;43m.\u001b[39;49m\u001b[43mcaptured_inputs\u001b[49m\u001b[43m)\u001b[49m\n",
      "File \u001b[1;32m~\\AppData\\Roaming\\Python\\Python39\\site-packages\\tensorflow\\python\\eager\\function.py:1853\u001b[0m, in \u001b[0;36mConcreteFunction._call_flat\u001b[1;34m(self, args, captured_inputs, cancellation_manager)\u001b[0m\n\u001b[0;32m   1849\u001b[0m possible_gradient_type \u001b[38;5;241m=\u001b[39m gradients_util\u001b[38;5;241m.\u001b[39mPossibleTapeGradientTypes(args)\n\u001b[0;32m   1850\u001b[0m \u001b[38;5;28;01mif\u001b[39;00m (possible_gradient_type \u001b[38;5;241m==\u001b[39m gradients_util\u001b[38;5;241m.\u001b[39mPOSSIBLE_GRADIENT_TYPES_NONE\n\u001b[0;32m   1851\u001b[0m     \u001b[38;5;129;01mand\u001b[39;00m executing_eagerly):\n\u001b[0;32m   1852\u001b[0m   \u001b[38;5;66;03m# No tape is watching; skip to running the function.\u001b[39;00m\n\u001b[1;32m-> 1853\u001b[0m   \u001b[38;5;28;01mreturn\u001b[39;00m \u001b[38;5;28mself\u001b[39m\u001b[38;5;241m.\u001b[39m_build_call_outputs(\u001b[38;5;28;43mself\u001b[39;49m\u001b[38;5;241;43m.\u001b[39;49m\u001b[43m_inference_function\u001b[49m\u001b[38;5;241;43m.\u001b[39;49m\u001b[43mcall\u001b[49m\u001b[43m(\u001b[49m\n\u001b[0;32m   1854\u001b[0m \u001b[43m      \u001b[49m\u001b[43mctx\u001b[49m\u001b[43m,\u001b[49m\u001b[43m \u001b[49m\u001b[43margs\u001b[49m\u001b[43m,\u001b[49m\u001b[43m \u001b[49m\u001b[43mcancellation_manager\u001b[49m\u001b[38;5;241;43m=\u001b[39;49m\u001b[43mcancellation_manager\u001b[49m\u001b[43m)\u001b[49m)\n\u001b[0;32m   1855\u001b[0m forward_backward \u001b[38;5;241m=\u001b[39m \u001b[38;5;28mself\u001b[39m\u001b[38;5;241m.\u001b[39m_select_forward_and_backward_functions(\n\u001b[0;32m   1856\u001b[0m     args,\n\u001b[0;32m   1857\u001b[0m     possible_gradient_type,\n\u001b[0;32m   1858\u001b[0m     executing_eagerly)\n\u001b[0;32m   1859\u001b[0m forward_function, args_with_tangents \u001b[38;5;241m=\u001b[39m forward_backward\u001b[38;5;241m.\u001b[39mforward()\n",
      "File \u001b[1;32m~\\AppData\\Roaming\\Python\\Python39\\site-packages\\tensorflow\\python\\eager\\function.py:499\u001b[0m, in \u001b[0;36m_EagerDefinedFunction.call\u001b[1;34m(self, ctx, args, cancellation_manager)\u001b[0m\n\u001b[0;32m    497\u001b[0m \u001b[38;5;28;01mwith\u001b[39;00m _InterpolateFunctionError(\u001b[38;5;28mself\u001b[39m):\n\u001b[0;32m    498\u001b[0m   \u001b[38;5;28;01mif\u001b[39;00m cancellation_manager \u001b[38;5;129;01mis\u001b[39;00m \u001b[38;5;28;01mNone\u001b[39;00m:\n\u001b[1;32m--> 499\u001b[0m     outputs \u001b[38;5;241m=\u001b[39m \u001b[43mexecute\u001b[49m\u001b[38;5;241;43m.\u001b[39;49m\u001b[43mexecute\u001b[49m\u001b[43m(\u001b[49m\n\u001b[0;32m    500\u001b[0m \u001b[43m        \u001b[49m\u001b[38;5;28;43mstr\u001b[39;49m\u001b[43m(\u001b[49m\u001b[38;5;28;43mself\u001b[39;49m\u001b[38;5;241;43m.\u001b[39;49m\u001b[43msignature\u001b[49m\u001b[38;5;241;43m.\u001b[39;49m\u001b[43mname\u001b[49m\u001b[43m)\u001b[49m\u001b[43m,\u001b[49m\n\u001b[0;32m    501\u001b[0m \u001b[43m        \u001b[49m\u001b[43mnum_outputs\u001b[49m\u001b[38;5;241;43m=\u001b[39;49m\u001b[38;5;28;43mself\u001b[39;49m\u001b[38;5;241;43m.\u001b[39;49m\u001b[43m_num_outputs\u001b[49m\u001b[43m,\u001b[49m\n\u001b[0;32m    502\u001b[0m \u001b[43m        \u001b[49m\u001b[43minputs\u001b[49m\u001b[38;5;241;43m=\u001b[39;49m\u001b[43margs\u001b[49m\u001b[43m,\u001b[49m\n\u001b[0;32m    503\u001b[0m \u001b[43m        \u001b[49m\u001b[43mattrs\u001b[49m\u001b[38;5;241;43m=\u001b[39;49m\u001b[43mattrs\u001b[49m\u001b[43m,\u001b[49m\n\u001b[0;32m    504\u001b[0m \u001b[43m        \u001b[49m\u001b[43mctx\u001b[49m\u001b[38;5;241;43m=\u001b[39;49m\u001b[43mctx\u001b[49m\u001b[43m)\u001b[49m\n\u001b[0;32m    505\u001b[0m   \u001b[38;5;28;01melse\u001b[39;00m:\n\u001b[0;32m    506\u001b[0m     outputs \u001b[38;5;241m=\u001b[39m execute\u001b[38;5;241m.\u001b[39mexecute_with_cancellation(\n\u001b[0;32m    507\u001b[0m         \u001b[38;5;28mstr\u001b[39m(\u001b[38;5;28mself\u001b[39m\u001b[38;5;241m.\u001b[39msignature\u001b[38;5;241m.\u001b[39mname),\n\u001b[0;32m    508\u001b[0m         num_outputs\u001b[38;5;241m=\u001b[39m\u001b[38;5;28mself\u001b[39m\u001b[38;5;241m.\u001b[39m_num_outputs,\n\u001b[1;32m   (...)\u001b[0m\n\u001b[0;32m    511\u001b[0m         ctx\u001b[38;5;241m=\u001b[39mctx,\n\u001b[0;32m    512\u001b[0m         cancellation_manager\u001b[38;5;241m=\u001b[39mcancellation_manager)\n",
      "File \u001b[1;32m~\\AppData\\Roaming\\Python\\Python39\\site-packages\\tensorflow\\python\\eager\\execute.py:54\u001b[0m, in \u001b[0;36mquick_execute\u001b[1;34m(op_name, num_outputs, inputs, attrs, ctx, name)\u001b[0m\n\u001b[0;32m     52\u001b[0m \u001b[38;5;28;01mtry\u001b[39;00m:\n\u001b[0;32m     53\u001b[0m   ctx\u001b[38;5;241m.\u001b[39mensure_initialized()\n\u001b[1;32m---> 54\u001b[0m   tensors \u001b[38;5;241m=\u001b[39m \u001b[43mpywrap_tfe\u001b[49m\u001b[38;5;241;43m.\u001b[39;49m\u001b[43mTFE_Py_Execute\u001b[49m\u001b[43m(\u001b[49m\u001b[43mctx\u001b[49m\u001b[38;5;241;43m.\u001b[39;49m\u001b[43m_handle\u001b[49m\u001b[43m,\u001b[49m\u001b[43m \u001b[49m\u001b[43mdevice_name\u001b[49m\u001b[43m,\u001b[49m\u001b[43m \u001b[49m\u001b[43mop_name\u001b[49m\u001b[43m,\u001b[49m\n\u001b[0;32m     55\u001b[0m \u001b[43m                                      \u001b[49m\u001b[43minputs\u001b[49m\u001b[43m,\u001b[49m\u001b[43m \u001b[49m\u001b[43mattrs\u001b[49m\u001b[43m,\u001b[49m\u001b[43m \u001b[49m\u001b[43mnum_outputs\u001b[49m\u001b[43m)\u001b[49m\n\u001b[0;32m     56\u001b[0m \u001b[38;5;28;01mexcept\u001b[39;00m core\u001b[38;5;241m.\u001b[39m_NotOkStatusException \u001b[38;5;28;01mas\u001b[39;00m e:\n\u001b[0;32m     57\u001b[0m   \u001b[38;5;28;01mif\u001b[39;00m name \u001b[38;5;129;01mis\u001b[39;00m \u001b[38;5;129;01mnot\u001b[39;00m \u001b[38;5;28;01mNone\u001b[39;00m:\n",
      "\u001b[1;31mKeyboardInterrupt\u001b[0m: "
     ]
    }
   ],
   "source": [
    "# Create bag of words featureset for stemmed \n",
    "cv=CountVectorizer(max_features=500)\n",
    "X=cv.fit_transform(processed_df['word_tokens_no_stop_stemmed'].apply(' '.join)).toarray()\n",
    "neg_tweets_stem = np.array([X[i] for i in range(len(y)) if y[i]==0 and any(X[i])])[:200000]\n",
    "pos_tweets_stem = np.array([X[i] for i in range(len(y)) if y[i]==1 and any(X[i])])[:200000]\n",
    "print(len(neg_tweets_stem), len(pos_tweets_stem))\n",
    "kfold(model, neg_tweets_stem, pos_tweets_stem, 256)"
   ]
  },
  {
   "cell_type": "code",
   "execution_count": null,
   "id": "58da8800",
   "metadata": {
    "scrolled": false
   },
   "outputs": [],
   "source": [
    "# Create bag of words featureset for stemmed \n",
    "cv=CountVectorizer(max_features=1000)\n",
    "X=cv.fit_transform(processed_df['word_tokens_no_stop_stemmed'].apply(' '.join)).toarray()\n",
    "neg_tweets_stem = np.array([X[i] for i in range(len(y)) if y[i]==0])[:200000]\n",
    "pos_tweets_stem = np.array([X[i] for i in range(len(y)) if y[i]==1])[:200000]\n",
    "print(len(neg_tweets_stem), len(pos_tweets_stem))\n",
    "kfold(model, neg_tweets_stem, pos_tweets_stem, 32)"
   ]
  },
  {
   "cell_type": "code",
   "execution_count": null,
   "id": "e3ac4ed3",
   "metadata": {
    "scrolled": true
   },
   "outputs": [],
   "source": [
    "cv=CountVectorizer(max_features=1000)\n",
    "X=cv.fit_transform().toarray()\n",
    "neg_tweets_lemm = np.array([X[i] for i in range(len(y)) if y[i]==0])[:200000]\n",
    "pos_tweets_lemm = np.array([X[i] for i in range(len(y)) if y[i]==1])[:200000]\n",
    "print(len(neg_tweets_lemm), len(pos_tweets_lemm))\n",
    "kfold(model, neg_tweets_lemm, pos_tweets_lemm, 256)"
   ]
  },
  {
   "cell_type": "code",
   "execution_count": null,
   "id": "594f5a5e",
   "metadata": {},
   "outputs": [
    {
     "name": "stdout",
     "output_type": "stream",
     "text": [
      "Model: \"sequential\"\n",
      "_________________________________________________________________\n",
      " Layer (type)                Output Shape              Param #   \n",
      "=================================================================\n",
      " conv1d (Conv1D)             (None, 500, 100)          500       \n",
      "                                                                 \n",
      " max_pooling1d (MaxPooling1D  (None, 250, 100)         0         \n",
      " )                                                               \n",
      "                                                                 \n",
      " flatten (Flatten)           (None, 25000)             0         \n",
      "                                                                 \n",
      " dense (Dense)               (None, 256)               6400256   \n",
      "                                                                 \n",
      " dropout (Dropout)           (None, 256)               0         \n",
      "                                                                 \n",
      " dense_1 (Dense)             (None, 1)                 257       \n",
      "                                                                 \n",
      "=================================================================\n",
      "Total params: 6,401,013\n",
      "Trainable params: 6,401,013\n",
      "Non-trainable params: 0\n",
      "_________________________________________________________________\n",
      "200000 200000\n",
      "Fold 0\n",
      "Test Index Start:0\n",
      "Test Set Size:40000\n"
     ]
    }
   ],
   "source": [
    "# Create model\n",
    "model = tf.keras.models.Sequential([\n",
    "    tf.keras.layers.Conv1D(100, 4, padding=\"same\", activation=\"relu\", input_shape=(500, 1)),\n",
    "    tf.keras.layers.MaxPooling1D(),\n",
    "    tf.keras.layers.Flatten(),\n",
    "    tf.keras.layers.Dense(256, activation=\"relu\", kernel_regularizer=tf.keras.regularizers.L2(0.001)),\n",
    "    tf.keras.layers.Dropout(0.5),\n",
    "    tf.keras.layers.Dense(1, activation='softmax'),\n",
    "\n",
    "])\n",
    "\n",
    "# Compile model\n",
    "model.compile(\n",
    "     loss='binary_crossentropy',\n",
    "     optimizer='adam',\n",
    "     metrics=['accuracy']\n",
    ")\n",
    "model.summary()\n",
    "\n",
    "cv=CountVectorizer(max_features=500)\n",
    "X=cv.fit_transform(processed_df['word_tokens_no_stop_lemmatized'].apply(' '.join)).toarray()\n",
    "neg_tweets_lemm = np.array([X[i] for i in range(len(y)) if y[i]==0])[:200000]\n",
    "pos_tweets_lemm = np.array([X[i] for i in range(len(y)) if y[i]==1])[:200000]\n",
    "print(len(neg_tweets_lemm), len(pos_tweets_lemm))\n",
    "kfold(model, neg_tweets_lemm, pos_tweets_lemm, 64)"
   ]
  },
  {
   "cell_type": "raw",
   "id": "05167639",
   "metadata": {},
   "source": [
    "max_words = 5000\n",
    "k_tokenizer = Tokenizer(num_words=max_words)\n",
    "k_tokenizer.fit_on_texts(processed_df['word_tokens_no_stop_stemmed'])\n",
    "X = processed_df['word_tokens_no_stop_stemmed'].apply(k_tokenizer.texts_to_sequences)\n",
    "X"
   ]
  },
  {
   "cell_type": "code",
   "execution_count": null,
   "id": "7f1846e0",
   "metadata": {},
   "outputs": [],
   "source": []
  }
 ],
 "metadata": {
  "kernelspec": {
   "display_name": "Python 3 (ipykernel)",
   "language": "python",
   "name": "python3"
  },
  "language_info": {
   "codemirror_mode": {
    "name": "ipython",
    "version": 3
   },
   "file_extension": ".py",
   "mimetype": "text/x-python",
   "name": "python",
   "nbconvert_exporter": "python",
   "pygments_lexer": "ipython3",
   "version": "3.9.4"
  }
 },
 "nbformat": 4,
 "nbformat_minor": 5
}
